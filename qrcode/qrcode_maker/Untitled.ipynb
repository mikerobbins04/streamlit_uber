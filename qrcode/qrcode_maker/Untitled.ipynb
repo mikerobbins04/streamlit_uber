{
 "cells": [
  {
   "cell_type": "code",
   "execution_count": 6,
   "id": "698a18eb",
   "metadata": {},
   "outputs": [
    {
     "name": "stdout",
     "output_type": "stream",
     "text": [
      "Collecting pillow\n",
      "  Downloading Pillow-9.0.1-cp39-cp39-macosx_10_10_x86_64.whl (3.0 MB)\n",
      "\u001b[2K     \u001b[90m━━━━━━━━━━━━━━━━━━━━━━━━━━━━━━━━━━━━━━━━\u001b[0m \u001b[32m3.0/3.0 MB\u001b[0m \u001b[31m6.3 MB/s\u001b[0m eta \u001b[36m0:00:00\u001b[0m00:01\u001b[0m00:01\u001b[0m\n",
      "\u001b[?25hInstalling collected packages: pillow\n",
      "Successfully installed pillow-9.0.1\n"
     ]
    }
   ],
   "source": [
    "!pip install pillow\n",
    "import qrcode"
   ]
  },
  {
   "cell_type": "code",
   "execution_count": 27,
   "id": "9d698076",
   "metadata": {},
   "outputs": [],
   "source": [
    "qr = qrcode.QRCode()\n",
    "qr. add_data('https://www.instagram.com/shaddaclippergod/')"
   ]
  },
  {
   "cell_type": "code",
   "execution_count": 28,
   "id": "bce8fdae",
   "metadata": {},
   "outputs": [],
   "source": [
    "img = qr.make_image()\n",
    "qr.clear()"
   ]
  },
  {
   "cell_type": "code",
   "execution_count": 29,
   "id": "9d38d0c0",
   "metadata": {},
   "outputs": [],
   "source": [
    "qr.add_data('Fresh2DeathCutz')\n",
    "img2 = qr.make_image()"
   ]
  },
  {
   "cell_type": "code",
   "execution_count": 30,
   "id": "a330063c",
   "metadata": {},
   "outputs": [],
   "source": [
    "img.save('rashad.png')"
   ]
  },
  {
   "cell_type": "code",
   "execution_count": null,
   "id": "364e7c81",
   "metadata": {},
   "outputs": [],
   "source": []
  },
  {
   "cell_type": "code",
   "execution_count": null,
   "id": "3faf0649",
   "metadata": {},
   "outputs": [],
   "source": []
  },
  {
   "cell_type": "code",
   "execution_count": null,
   "id": "ce5f7531",
   "metadata": {},
   "outputs": [],
   "source": []
  }
 ],
 "metadata": {
  "kernelspec": {
   "display_name": "Python 3 (ipykernel)",
   "language": "python",
   "name": "python3"
  },
  "language_info": {
   "codemirror_mode": {
    "name": "ipython",
    "version": 3
   },
   "file_extension": ".py",
   "mimetype": "text/x-python",
   "name": "python",
   "nbconvert_exporter": "python",
   "pygments_lexer": "ipython3",
   "version": "3.9.3"
  }
 },
 "nbformat": 4,
 "nbformat_minor": 5
}
